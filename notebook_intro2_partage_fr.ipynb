{
 "cells": [
  {
   "cell_type": "code",
   "execution_count": 2,
   "metadata": {},
   "outputs": [
    {
     "ename": "ModuleNotFoundError",
     "evalue": "No module named 'numpy'",
     "output_type": "error",
     "traceback": [
      "\u001b[1;31m---------------------------------------------------------------------------\u001b[0m",
      "\u001b[1;31mModuleNotFoundError\u001b[0m                       Traceback (most recent call last)",
      "Cell \u001b[1;32mIn [2], line 1\u001b[0m\n\u001b[1;32m----> 1\u001b[0m \u001b[38;5;28;01mfrom\u001b[39;00m \u001b[38;5;21;01mnumpy\u001b[39;00m \u001b[38;5;28;01mimport\u001b[39;00m pi\n\u001b[0;32m      3\u001b[0m \u001b[38;5;28;01mfrom\u001b[39;00m \u001b[38;5;21;01mibm_quantum_widgets\u001b[39;00m \u001b[38;5;28;01mimport\u001b[39;00m CircuitComposer\n\u001b[0;32m      4\u001b[0m \u001b[38;5;28;01mfrom\u001b[39;00m \u001b[38;5;21;01mqiskit\u001b[39;00m \u001b[38;5;28;01mimport\u001b[39;00m Aer, execute, IBMQ, QuantumCircuit\n",
      "\u001b[1;31mModuleNotFoundError\u001b[0m: No module named 'numpy'"
     ]
    }
   ],
   "source": [
    "from numpy import pi\n",
    "\n",
    "from ibm_quantum_widgets import CircuitComposer\n",
    "from qiskit import Aer, execute, IBMQ, QuantumCircuit\n",
    "from qiskit.providers import JobStatus\n",
    "from qiskit.visualization import plot_histogram"
   ]
  },
  {
   "cell_type": "code",
   "execution_count": null,
   "metadata": {},
   "outputs": [],
   "source": [
    "qc = QuantumCircuit(4, 4)\n",
    "\n",
    "qc.ry(1.910633, 0) \n",
    "\n",
    "qc.ch(0, 1) \n",
    "qc.cx(1, 2) \n",
    "qc.cx(0,1) \n",
    "qc.x(0)\n",
    "qc.barrier(0,1,2,3) \n",
    "qc.cx(0,3)\n",
    "qc.ch(2, 3)\n",
    "qc.barrier(0, 1, 2, 3)\n",
    "\n",
    "for i in range(4): \n",
    "    qc.measure(i, i)\n",
    "\n",
    "qc.draw(\"mpl\")"
   ]
  },
  {
   "cell_type": "code",
   "execution_count": null,
   "metadata": {},
   "outputs": [],
   "source": [
    "IBMQ.load_account()\n",
    "provider = IBMQ.get_provider(hub='ibm-q', group='open', project='main')"
   ]
  },
  {
   "cell_type": "code",
   "execution_count": null,
   "metadata": {},
   "outputs": [],
   "source": [
    "SIMULATEUR = True  # mettre False pour exécuter le circuit sur un vrai ordi quantique\n",
    "\n",
    "backend = None\n",
    "\n",
    "if SIMULATEUR:\n",
    "    backend = provider.get_backend('ibmq_qasm_simulator')\n",
    "else:\n",
    "    q_device = 'ibmq_quito'  # Choisir le système de votre choix\n",
    "    backend = provider.get_backend(q_device)\n",
    "\n",
    "nb_shots = 1024  # Mettre le nombre d'éxecution désiré\n",
    "job = execute(qc, backend, shots=nb_shots)\n",
    "job_id = job.job_id()\n",
    "print(f'Id de la tâche: {job_id}')"
   ]
  },
  {
   "cell_type": "code",
   "execution_count": null,
   "metadata": {},
   "outputs": [],
   "source": [
    "job = backend.retrieve_job(job_id)\n",
    "job_status = job.status()\n",
    "counts = {}\n",
    "if job_status == JobStatus.DONE:\n",
    "    result = job.result()\n",
    "    counts = result.get_counts()\n",
    "else:\n",
    "    print(f'Le status de la tâche est {job_status}')"
   ]
  },
  {
   "cell_type": "code",
   "execution_count": null,
   "metadata": {},
   "outputs": [],
   "source": [
    "plot_histogram(counts)  # Vous assurez que le statut de la tâche est à DONE avant d'exécuter cette cellule"
   ]
  }
 ],
 "metadata": {
  "kernelspec": {
   "display_name": "Python 3.10.7 64-bit",
   "language": "python",
   "name": "python3"
  },
  "language_info": {
   "codemirror_mode": {
    "name": "ipython",
    "version": 3
   },
   "file_extension": ".py",
   "mimetype": "text/x-python",
   "name": "python",
   "nbconvert_exporter": "python",
   "pygments_lexer": "ipython3",
   "version": "3.10.7"
  },
  "orig_nbformat": 4,
  "vscode": {
   "interpreter": {
    "hash": "369f2c481f4da34e4445cda3fffd2e751bd1c4d706f27375911949ba6bb62e1c"
   }
  }
 },
 "nbformat": 4,
 "nbformat_minor": 2
}
